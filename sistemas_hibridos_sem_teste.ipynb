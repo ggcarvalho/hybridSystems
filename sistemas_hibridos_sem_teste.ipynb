{
 "cells": [
  {
   "cell_type": "markdown",
   "metadata": {},
   "source": [
    "# Sistemas Híbridos"
   ]
  },
  {
   "cell_type": "markdown",
   "metadata": {},
   "source": [
    "Atividade referente ao assunto Sistemas Híbridos. \n",
    "\n",
    "O objetivo dessa atividade foi implementar um Sistema Híbirdo, conforme Zhang (2003), para realizar previsão do logaritmo da taxa de mortalidade da idade de 40 anos da população francesa. \n",
    "\n",
    "A metodologia consiste em realizar a modelagem da série $Z_t$ a partir da equação $Z_t=L_t + N_t$.  \n",
    "Para tanto, utilizou-se um Arima(p,d,q) para modelar $L_t$, enquanto que a estrutura não linear, $N_t$, foi modelada pelas Redes Neurais Artificiais, especificamente por uma Multilayer Perceptron (MLP).\n",
    "\n",
    "Metodologia:\n",
    "1. Treinar um ARIMA\n",
    "2. Calcular o erro do ARIMA nos dados de treinamento\n",
    "3. Treinar uma MLP no erro do ARIMA\n",
    "4. Realizar a Previsão do ARIMA: h = 20\n",
    "5. Realizar a Previsão por MLP com 20 saídas\n",
    "\n",
    "\n",
    "\n",
    "O trabalho está dividido em: \n",
    "* Funções implementadas\n",
    "* Carregamento das bibliotecas\n",
    "* Importação dos dados\n",
    "* Análise gráfica e estatística da série temporal\n",
    "* ARIMA\n",
    "* MLP\n",
    "* Aplicação do Sistema Híbrido - ARIMA + MLP"
   ]
  },
  {
   "cell_type": "markdown",
   "metadata": {},
   "source": [
    "#### Funções implementadas"
   ]
  },
  {
   "cell_type": "code",
   "execution_count": 1,
   "metadata": {},
   "outputs": [],
   "source": [
    "def normalizar_serie(serie):\n",
    "    minimo = min(serie)\n",
    "    maximo = max(serie)\n",
    "    y = (serie - minimo) / (maximo - minimo)\n",
    "    return y"
   ]
  },
  {
   "cell_type": "code",
   "execution_count": 2,
   "metadata": {},
   "outputs": [],
   "source": [
    "def desnormalizar(serie_atual, serie_real):\n",
    "    minimo = min(serie_real)\n",
    "    maximo = max(serie_real)\n",
    "    \n",
    "    serie = (serie_atual * (maximo - minimo)) + minimo\n",
    "    \n",
    "    return pd.DataFrame(serie)"
   ]
  },
  {
   "cell_type": "code",
   "execution_count": 3,
   "metadata": {},
   "outputs": [],
   "source": [
    "def gerar_janelas(tam_janela, serie):\n",
    "    # serie: vetor do tipo numpy ou lista\n",
    "    tam_serie = len(serie)\n",
    "    tam_janela = tam_janela +1 # Adicionado mais um ponto para retornar o target na janela\n",
    "    \n",
    "    janela = list(serie[0:0+tam_janela]) #primeira janela p criar o objeto np\n",
    "    janelas_np = np.array(np.transpose(janela))    \n",
    "       \n",
    "    for i in range(1, tam_serie-tam_janela):\n",
    "        janela = list(serie[i:i+tam_janela])\n",
    "        j_np = np.array(np.transpose(janela))        \n",
    "        \n",
    "        janelas_np = np.vstack((janelas_np, j_np))\n",
    "            \n",
    "    return janelas_np"
   ]
  },
  {
   "cell_type": "code",
   "execution_count": 4,
   "metadata": {},
   "outputs": [],
   "source": [
    "def diferenciar_serie(serie):\n",
    "    #serie: obj pandas\n",
    "    return serie.diff().dropna()"
   ]
  },
  {
   "cell_type": "code",
   "execution_count": 5,
   "metadata": {},
   "outputs": [],
   "source": [
    "def incrementar_serie(serie_real, serie_diff):\n",
    "    return serie_real[0:-1] + serie_diff"
   ]
  },
  {
   "cell_type": "code",
   "execution_count": 6,
   "metadata": {},
   "outputs": [],
   "source": [
    "def select_lag_acf(serie, max_lag):\n",
    "    from statsmodels.tsa.stattools import acf\n",
    "    x = serie[0: max_lag+1]\n",
    "    \n",
    "    acf_x, confint = acf(serie, nlags=max_lag, alpha=.05, fft=False,\n",
    "                             unbiased=False)\n",
    "       \n",
    "    limiar_superior = confint[:, 1] - acf_x\n",
    "    limiar_inferior = confint[:, 0] - acf_x\n",
    "    \n",
    "    lags_selecionados = []\n",
    "    \n",
    "    for i in range(1, max_lag+1):\n",
    "\n",
    "        \n",
    "        if acf_x[i] >= limiar_superior[i] or acf_x[i] <= limiar_inferior[i]:\n",
    "            lags_selecionados.append(i-1)  #-1 por conta que o lag 1 em python é o 0\n",
    "    \n",
    "    #caso nenhum lag seja selecionado, essa atividade de seleção para o gridsearch encontrar a melhor combinação de lags\n",
    "    if len(lags_selecionados)==0:\n",
    "\n",
    "\n",
    "        print('NENHUM LAG POR ACF')\n",
    "        lags_selecionados = [i for i in range(max_lag)]\n",
    "\n",
    "    print('LAGS', lags_selecionados)\n",
    "\n",
    "    #!!!!!!!!!!!!!!!!!!!!!!!!!!!!!!!!!!!!!!!!!!!!!!!!!!!!!!!!!!!!!!!!!!!!!!!!!!!!!!!!!!!!!!!!!!!!!!!!\n",
    "    #inverte o valor dos lags para usar na lista de dados se os dados forem de ordem [t t+1 t+2 t+3]\n",
    "    lags_selecionados = [max_lag - (i+1) for i in lags_selecionados]\n",
    "    #!!!!!!!!!!!!!!!!!!!!!!!!!!!!!!!!!!!!!!!!!!!!!!!!!!!!!!!!!!!!!!!!!!!!!!!!!!!!!!!!!!!!!!!!!!!!!!!\n",
    "\n",
    "    return lags_selecionados"
   ]
  },
  {
   "cell_type": "code",
   "execution_count": 7,
   "metadata": {},
   "outputs": [],
   "source": [
    "def split_serie_with_lags(serie, perc_train, perc_val = 0):\n",
    "    \n",
    "    #faz corte na serie com as janelas já formadas \n",
    "    \n",
    "    x_date = serie[:, 0:-1]\n",
    "    y_date = serie[:, -1]        \n",
    "       \n",
    "    train_size = np.fix(len(serie) *perc_train)\n",
    "    train_size = train_size.astype(int)\n",
    "    \n",
    "    if perc_val > 0:        \n",
    "        val_size = np.fix(len(serie) *perc_val).astype(int)\n",
    "              \n",
    "        \n",
    "        x_train = x_date[0:train_size,:]\n",
    "        y_train = y_date[0:train_size]\n",
    "        print(\"Particao de Treinamento:\", 0, train_size  )\n",
    "        \n",
    "        x_val = x_date[train_size:train_size+val_size,:]\n",
    "        y_val = y_date[train_size:train_size+val_size]\n",
    "        \n",
    "        print(\"Particao de Validacao:\",train_size, train_size+val_size)\n",
    "        \n",
    "        x_test = x_date[(train_size+val_size):-1,:]\n",
    "        y_test = y_date[(train_size+val_size):-1]\n",
    "        \n",
    "        print(\"Particao de Teste:\", train_size+val_size, len(y_date))\n",
    "        \n",
    "        return x_train, y_train, x_test, y_test, x_val, y_val\n",
    "        \n",
    "    else:\n",
    "        \n",
    "        x_train = x_date[0:train_size,:]\n",
    "        y_train = y_date[0:train_size]\n",
    "\n",
    "        x_test = x_date[train_size:-1,:]\n",
    "        y_test = y_date[train_size:-1]\n",
    "\n",
    "        return x_train, y_train, x_test, y_test"
   ]
  },
  {
   "cell_type": "markdown",
   "metadata": {},
   "source": [
    "### Carregando biblioteca"
   ]
  },
  {
   "cell_type": "code",
   "execution_count": 8,
   "metadata": {},
   "outputs": [],
   "source": [
    "import numpy as np\n",
    "import pandas as pd\n",
    "import matplotlib.pyplot as plt\n",
    "from statsmodels.graphics.tsaplots import plot_acf, plot_pacf\n",
    "from statsmodels.tsa.api import SimpleExpSmoothing, Holt, ExponentialSmoothing\n",
    "from statsmodels.tsa.arima_model import ARIMA\n",
    "from statsmodels.tsa.stattools import adfuller\n",
    "from sklearn.metrics import mean_squared_error\n",
    "from sklearn.neural_network import MLPRegressor\n",
    "from sklearn.metrics import mean_squared_error as MSE\n",
    "from pmdarima import auto_arima\n",
    "from matplotlib.pylab import rcParams\n",
    "rcParams['figure.figsize'] =15, 6"
   ]
  },
  {
   "cell_type": "code",
   "execution_count": 9,
   "metadata": {},
   "outputs": [
    {
     "data": {
      "text/plain": [
       "'/Users/filipeduarte/Documents/Mortality_data'"
      ]
     },
     "execution_count": 9,
     "metadata": {},
     "output_type": "execute_result"
    }
   ],
   "source": [
    "import os\n",
    "os.chdir(\"/Users/filipeduarte/Documents/Mortality_data\")\n",
    "os.getcwd()"
   ]
  },
  {
   "cell_type": "markdown",
   "metadata": {},
   "source": [
    "### Importação dos dados"
   ]
  },
  {
   "cell_type": "code",
   "execution_count": 10,
   "metadata": {},
   "outputs": [
    {
     "data": {
      "text/html": [
       "<div>\n",
       "<style scoped>\n",
       "    .dataframe tbody tr th:only-of-type {\n",
       "        vertical-align: middle;\n",
       "    }\n",
       "\n",
       "    .dataframe tbody tr th {\n",
       "        vertical-align: top;\n",
       "    }\n",
       "\n",
       "    .dataframe thead th {\n",
       "        text-align: right;\n",
       "    }\n",
       "</style>\n",
       "<table border=\"1\" class=\"dataframe\">\n",
       "  <thead>\n",
       "    <tr style=\"text-align: right;\">\n",
       "      <th></th>\n",
       "      <th>0</th>\n",
       "      <th>1</th>\n",
       "      <th>2</th>\n",
       "      <th>5</th>\n",
       "      <th>10</th>\n",
       "      <th>12</th>\n",
       "      <th>15</th>\n",
       "      <th>18</th>\n",
       "      <th>20</th>\n",
       "      <th>22</th>\n",
       "      <th>25</th>\n",
       "      <th>28</th>\n",
       "      <th>30</th>\n",
       "      <th>40</th>\n",
       "      <th>50</th>\n",
       "      <th>60</th>\n",
       "      <th>70</th>\n",
       "      <th>80</th>\n",
       "      <th>90</th>\n",
       "      <th>100</th>\n",
       "    </tr>\n",
       "    <tr>\n",
       "      <th>Year</th>\n",
       "      <th></th>\n",
       "      <th></th>\n",
       "      <th></th>\n",
       "      <th></th>\n",
       "      <th></th>\n",
       "      <th></th>\n",
       "      <th></th>\n",
       "      <th></th>\n",
       "      <th></th>\n",
       "      <th></th>\n",
       "      <th></th>\n",
       "      <th></th>\n",
       "      <th></th>\n",
       "      <th></th>\n",
       "      <th></th>\n",
       "      <th></th>\n",
       "      <th></th>\n",
       "      <th></th>\n",
       "      <th></th>\n",
       "      <th></th>\n",
       "    </tr>\n",
       "  </thead>\n",
       "  <tbody>\n",
       "    <tr>\n",
       "      <td>1816</td>\n",
       "      <td>-1.583074</td>\n",
       "      <td>-3.064332</td>\n",
       "      <td>-3.377842</td>\n",
       "      <td>-4.287954</td>\n",
       "      <td>-5.091791</td>\n",
       "      <td>-5.344152</td>\n",
       "      <td>-5.227673</td>\n",
       "      <td>-4.898736</td>\n",
       "      <td>-4.720806</td>\n",
       "      <td>-4.601178</td>\n",
       "      <td>-4.580380</td>\n",
       "      <td>-4.682375</td>\n",
       "      <td>-4.678817</td>\n",
       "      <td>-4.431805</td>\n",
       "      <td>-4.019219</td>\n",
       "      <td>-3.380601</td>\n",
       "      <td>-2.652838</td>\n",
       "      <td>-1.813196</td>\n",
       "      <td>-1.471469</td>\n",
       "      <td>-1.039535</td>\n",
       "    </tr>\n",
       "    <tr>\n",
       "      <td>1817</td>\n",
       "      <td>-1.608114</td>\n",
       "      <td>-2.917439</td>\n",
       "      <td>-3.250650</td>\n",
       "      <td>-4.178923</td>\n",
       "      <td>-5.048181</td>\n",
       "      <td>-5.240992</td>\n",
       "      <td>-5.115163</td>\n",
       "      <td>-4.873834</td>\n",
       "      <td>-4.696518</td>\n",
       "      <td>-4.641212</td>\n",
       "      <td>-4.641834</td>\n",
       "      <td>-4.720357</td>\n",
       "      <td>-4.697505</td>\n",
       "      <td>-4.393209</td>\n",
       "      <td>-3.957125</td>\n",
       "      <td>-3.337293</td>\n",
       "      <td>-2.654088</td>\n",
       "      <td>-1.835461</td>\n",
       "      <td>-1.475817</td>\n",
       "      <td>-0.584203</td>\n",
       "    </tr>\n",
       "    <tr>\n",
       "      <td>1818</td>\n",
       "      <td>-1.601852</td>\n",
       "      <td>-2.794409</td>\n",
       "      <td>-3.181171</td>\n",
       "      <td>-4.111145</td>\n",
       "      <td>-4.999844</td>\n",
       "      <td>-5.203553</td>\n",
       "      <td>-5.079503</td>\n",
       "      <td>-4.841906</td>\n",
       "      <td>-4.676129</td>\n",
       "      <td>-4.603172</td>\n",
       "      <td>-4.639865</td>\n",
       "      <td>-4.684863</td>\n",
       "      <td>-4.645680</td>\n",
       "      <td>-4.389253</td>\n",
       "      <td>-3.987016</td>\n",
       "      <td>-3.382189</td>\n",
       "      <td>-2.689837</td>\n",
       "      <td>-1.894510</td>\n",
       "      <td>-1.497753</td>\n",
       "      <td>-0.489103</td>\n",
       "    </tr>\n",
       "    <tr>\n",
       "      <td>1819</td>\n",
       "      <td>-1.532375</td>\n",
       "      <td>-2.709036</td>\n",
       "      <td>-3.081486</td>\n",
       "      <td>-4.009581</td>\n",
       "      <td>-4.854401</td>\n",
       "      <td>-5.175923</td>\n",
       "      <td>-5.117664</td>\n",
       "      <td>-4.838112</td>\n",
       "      <td>-4.671951</td>\n",
       "      <td>-4.554287</td>\n",
       "      <td>-4.626700</td>\n",
       "      <td>-4.658044</td>\n",
       "      <td>-4.622723</td>\n",
       "      <td>-4.386035</td>\n",
       "      <td>-3.974377</td>\n",
       "      <td>-3.403791</td>\n",
       "      <td>-2.718570</td>\n",
       "      <td>-1.903165</td>\n",
       "      <td>-1.486446</td>\n",
       "      <td>-0.719076</td>\n",
       "    </tr>\n",
       "    <tr>\n",
       "      <td>1820</td>\n",
       "      <td>-1.622807</td>\n",
       "      <td>-2.861656</td>\n",
       "      <td>-3.217926</td>\n",
       "      <td>-4.133169</td>\n",
       "      <td>-4.927030</td>\n",
       "      <td>-5.293131</td>\n",
       "      <td>-5.237787</td>\n",
       "      <td>-4.909931</td>\n",
       "      <td>-4.752858</td>\n",
       "      <td>-4.633775</td>\n",
       "      <td>-4.728242</td>\n",
       "      <td>-4.756226</td>\n",
       "      <td>-4.692036</td>\n",
       "      <td>-4.425435</td>\n",
       "      <td>-3.968329</td>\n",
       "      <td>-3.370368</td>\n",
       "      <td>-2.669195</td>\n",
       "      <td>-1.794227</td>\n",
       "      <td>-1.418202</td>\n",
       "      <td>-0.639684</td>\n",
       "    </tr>\n",
       "  </tbody>\n",
       "</table>\n",
       "</div>"
      ],
      "text/plain": [
       "             0         1         2         5        10        12        15  \\\n",
       "Year                                                                         \n",
       "1816 -1.583074 -3.064332 -3.377842 -4.287954 -5.091791 -5.344152 -5.227673   \n",
       "1817 -1.608114 -2.917439 -3.250650 -4.178923 -5.048181 -5.240992 -5.115163   \n",
       "1818 -1.601852 -2.794409 -3.181171 -4.111145 -4.999844 -5.203553 -5.079503   \n",
       "1819 -1.532375 -2.709036 -3.081486 -4.009581 -4.854401 -5.175923 -5.117664   \n",
       "1820 -1.622807 -2.861656 -3.217926 -4.133169 -4.927030 -5.293131 -5.237787   \n",
       "\n",
       "            18        20        22        25        28        30        40  \\\n",
       "Year                                                                         \n",
       "1816 -4.898736 -4.720806 -4.601178 -4.580380 -4.682375 -4.678817 -4.431805   \n",
       "1817 -4.873834 -4.696518 -4.641212 -4.641834 -4.720357 -4.697505 -4.393209   \n",
       "1818 -4.841906 -4.676129 -4.603172 -4.639865 -4.684863 -4.645680 -4.389253   \n",
       "1819 -4.838112 -4.671951 -4.554287 -4.626700 -4.658044 -4.622723 -4.386035   \n",
       "1820 -4.909931 -4.752858 -4.633775 -4.728242 -4.756226 -4.692036 -4.425435   \n",
       "\n",
       "            50        60        70        80        90       100  \n",
       "Year                                                              \n",
       "1816 -4.019219 -3.380601 -2.652838 -1.813196 -1.471469 -1.039535  \n",
       "1817 -3.957125 -3.337293 -2.654088 -1.835461 -1.475817 -0.584203  \n",
       "1818 -3.987016 -3.382189 -2.689837 -1.894510 -1.497753 -0.489103  \n",
       "1819 -3.974377 -3.403791 -2.718570 -1.903165 -1.486446 -0.719076  \n",
       "1820 -3.968329 -3.370368 -2.669195 -1.794227 -1.418202 -0.639684  "
      ]
     },
     "execution_count": 10,
     "metadata": {},
     "output_type": "execute_result"
    }
   ],
   "source": [
    "# importing data\n",
    "lnmx_series = pd.read_csv('lnmx_series.csv', sep = ',', index_col = 0)\n",
    "lnmx_series.head()"
   ]
  },
  {
   "cell_type": "code",
   "execution_count": 11,
   "metadata": {},
   "outputs": [
    {
     "data": {
      "text/plain": [
       "'/Users/filipeduarte/Desktop/TimeSeriesCIn-master'"
      ]
     },
     "execution_count": 11,
     "metadata": {},
     "output_type": "execute_result"
    }
   ],
   "source": [
    "import os\n",
    "os.chdir(\"/Users/filipeduarte/Desktop/TimeSeriesCin-master\")\n",
    "os.getcwd()"
   ]
  },
  {
   "cell_type": "markdown",
   "metadata": {},
   "source": [
    "#### Análise gráfica e estatística"
   ]
  },
  {
   "cell_type": "code",
   "execution_count": 12,
   "metadata": {},
   "outputs": [
    {
     "data": {
      "text/plain": [
       "Index(['0', '1', '2', '5', '10', '12', '15', '18', '20', '22', '25', '28',\n",
       "       '30', '40', '50', '60', '70', '80', '90', '100'],\n",
       "      dtype='object')"
      ]
     },
     "execution_count": 12,
     "metadata": {},
     "output_type": "execute_result"
    }
   ],
   "source": [
    "idades = lnmx_series.columns\n",
    "idades"
   ]
  },
  {
   "cell_type": "code",
   "execution_count": 13,
   "metadata": {},
   "outputs": [],
   "source": [
    "# Começar com a idade 40 anos\n",
    "lnmx = lnmx_series['40']"
   ]
  },
  {
   "cell_type": "code",
   "execution_count": 14,
   "metadata": {},
   "outputs": [
    {
     "data": {
      "image/png": "[encoded data removed]",
      "text/plain": [
       "<Figure size 432x288 with 1 Axes>"
      ]
     },
     "metadata": {},
     "output_type": "display_data"
    }
   ],
   "source": [
    "# gráfico \n",
    "lnmx.plot(label='log(m40)')\n",
    "plt.legend()\n",
    "plt.show()"
   ]
  },
  {
   "cell_type": "markdown",
   "metadata": {},
   "source": [
    "Verifica-se um comportamento muito distinto a partir do ano de 1950. \n",
    "\n",
    "Sendo assim, optou-se por utilizar a série a partir dessa data até 2010."
   ]
  },
  {
   "cell_type": "code",
   "execution_count": 15,
   "metadata": {},
   "outputs": [],
   "source": [
    "# Antes de aplicar o Arima, vamos dividir os dados em treinamento e teste. \n",
    "# Como vou aplicar uma janela com 2 lags passados e 20 anos para previsão, vamos ficar com os anos 1816:1990 para treinamento\n",
    "# e 1991:2010 para teste\n",
    "lnmx = lnmx[lnmx.index<2011]\n",
    "treino, teste = lnmx[lnmx.index <= 1990], lnmx[lnmx.index > 1990]"
   ]
  },
  {
   "cell_type": "markdown",
   "metadata": {},
   "source": [
    "* Treinamento: 1816-1990\n",
    "* Teste: 1991-2010"
   ]
  },
  {
   "cell_type": "code",
   "execution_count": 16,
   "metadata": {},
   "outputs": [
    {
     "data": {
      "image/png": "[encoded data removed]",
      "text/plain": [
       "<Figure size 432x288 with 1 Axes>"
      ]
     },
     "metadata": {},
     "output_type": "display_data"
    }
   ],
   "source": [
    "# Visualizar o gráfico \n",
    "treino.plot(label = 'Treinamento')\n",
    "teste.plot(label='Teste')\n",
    "plt.legend()\n",
    "plt.show()"
   ]
  },
  {
   "cell_type": "code",
   "execution_count": 17,
   "metadata": {},
   "outputs": [
    {
     "data": {
      "text/plain": [
       "count    175.000000\n",
       "mean      -4.896133\n",
       "std        0.619546\n",
       "min       -6.207136\n",
       "25%       -5.475952\n",
       "50%       -4.577069\n",
       "75%       -4.481008\n",
       "max       -3.895854\n",
       "Name: 40, dtype: float64"
      ]
     },
     "execution_count": 17,
     "metadata": {},
     "output_type": "execute_result"
    }
   ],
   "source": [
    "# calcular as estatísticas\n",
    "treino.describe()"
   ]
  },
  {
   "cell_type": "code",
   "execution_count": 18,
   "metadata": {},
   "outputs": [
    {
     "data": {
      "text/plain": [
       "count    20.000000\n",
       "mean     -6.366835\n",
       "std       0.178995\n",
       "min      -6.687817\n",
       "25%      -6.506776\n",
       "50%      -6.355612\n",
       "75%      -6.183168\n",
       "max      -6.123854\n",
       "Name: 40, dtype: float64"
      ]
     },
     "execution_count": 18,
     "metadata": {},
     "output_type": "execute_result"
    }
   ],
   "source": [
    "teste.describe()"
   ]
  },
  {
   "cell_type": "code",
   "execution_count": 19,
   "metadata": {},
   "outputs": [
    {
     "name": "stdout",
     "output_type": "stream",
     "text": [
      "ADF Statistic: 0.180194\n",
      "p-value: 0.971129\n",
      "Critical Values:\n",
      "\t1%: -3.469\n",
      "\t5%: -2.879\n",
      "\t10%: -2.576\n"
     ]
    }
   ],
   "source": [
    "# Analisar a estacionariedade da série de treinamento\n",
    "result = adfuller(treino)\n",
    "print('ADF Statistic: %f' % result[0])\n",
    "print('p-value: %f' % result[1])\n",
    "print('Critical Values:')\n",
    "for key, value in result[4].items():\n",
    "    print('\\t%s: %.3f' % (key, value))"
   ]
  },
  {
   "cell_type": "markdown",
   "metadata": {},
   "source": [
    "Resultados indicam que a série é não estacionária. Dessa maneira, temos que realizar a diferenciação pelo modelo Arima.\n",
    "Próximo passo será analisar o autocorrelograma/parcial da série de treinamento diferenciada."
   ]
  },
  {
   "cell_type": "code",
   "execution_count": 20,
   "metadata": {},
   "outputs": [
    {
     "data": {
      "image/png": "[encoded data removed]",
      "text/plain": [
       "<Figure size 432x288 with 1 Axes>"
      ]
     },
     "metadata": {},
     "output_type": "display_data"
    },
    {
     "data": {
      "image/png": "[encoded data removed]",
      "text/plain": [
       "<Figure size 432x288 with 1 Axes>"
      ]
     },
     "metadata": {},
     "output_type": "display_data"
    }
   ],
   "source": [
    "plot_acf(treino.diff().dropna(), lags=30)\n",
    "plot_pacf(treino.diff().dropna(), lags = 30)\n",
    "plt.show()"
   ]
  },
  {
   "cell_type": "markdown",
   "metadata": {},
   "source": [
    "Autocorrelação de ordem 2"
   ]
  },
  {
   "cell_type": "markdown",
   "metadata": {},
   "source": [
    "### ARIMA\n",
    "\n",
    "Utilizou-se o auto_arima da biblioteca pyramid.arima para modelar a série de treinamento. \n",
    "\n",
    "O auto_arima busca o modelo com o menor AIC, a partir de uma busca iniciando com os parâmetros pelos modelos mais parcimoniosos."
   ]
  },
  {
   "cell_type": "code",
   "execution_count": 21,
   "metadata": {},
   "outputs": [
    {
     "name": "stdout",
     "output_type": "stream",
     "text": [
      "Fit ARIMA: order=(1, 1, 1); AIC=-188.005, BIC=-175.369, Fit time=0.148 seconds\n",
      "Fit ARIMA: order=(0, 1, 0); AIC=-174.453, BIC=-168.135, Fit time=0.006 seconds\n",
      "Fit ARIMA: order=(1, 1, 0); AIC=-178.104, BIC=-168.627, Fit time=0.022 seconds\n",
      "Fit ARIMA: order=(0, 1, 1); AIC=-183.246, BIC=-173.769, Fit time=0.025 seconds\n",
      "Fit ARIMA: order=(2, 1, 1); AIC=-187.266, BIC=-171.471, Fit time=0.098 seconds\n",
      "Fit ARIMA: order=(1, 1, 2); AIC=-187.169, BIC=-171.374, Fit time=0.170 seconds\n",
      "Fit ARIMA: order=(2, 1, 2); AIC=-185.267, BIC=-166.313, Fit time=0.269 seconds\n",
      "Total fit time: 0.740 seconds\n"
     ]
    }
   ],
   "source": [
    "stepwise_model = auto_arima(treino, start_p=1, start_q=1,\n",
    "                           max_p=10, max_q=10, m=12,\n",
    "                           start_P=0, seasonal=False,\n",
    "                           d=1, D=1, trace=True,\n",
    "                           error_action='ignore',  \n",
    "                           suppress_warnings=True, \n",
    "                           stepwise=True)"
   ]
  },
  {
   "cell_type": "code",
   "execution_count": 22,
   "metadata": {},
   "outputs": [
    {
     "data": {
      "text/plain": [
       "-188.00529703585642"
      ]
     },
     "execution_count": 22,
     "metadata": {},
     "output_type": "execute_result"
    }
   ],
   "source": [
    "# melhor AIC - modelo (1,1,1)\n",
    "stepwise_model.aic()"
   ]
  },
  {
   "cell_type": "markdown",
   "metadata": {},
   "source": [
    "O modelo selecionado será o ARIMA(p=1,q=1,d=1), ou seja, diferenciado em 1ª ordem e ARMA(1). "
   ]
  },
  {
   "cell_type": "code",
   "execution_count": 23,
   "metadata": {},
   "outputs": [
    {
     "data": {
      "text/plain": [
       "ARIMA(callback=None, disp=0, maxiter=None, method=None, order=(1, 1, 1),\n",
       "   out_of_sample_size=0, scoring='mse', scoring_args={},\n",
       "   seasonal_order=None, solver='lbfgs', start_params=None,\n",
       "   suppress_warnings=True, transparams=True, trend=None,\n",
       "   with_intercept=True)"
      ]
     },
     "execution_count": 23,
     "metadata": {},
     "output_type": "execute_result"
    }
   ],
   "source": [
    "# treinamento do arima(1,1,1)\n",
    "stepwise_model.fit(treino)"
   ]
  },
  {
   "cell_type": "code",
   "execution_count": 24,
   "metadata": {},
   "outputs": [
    {
     "data": {
      "image/png": "[encoded data removed]",
      "text/plain": [
       "<Figure size 432x288 with 1 Axes>"
      ]
     },
     "metadata": {},
     "output_type": "display_data"
    }
   ],
   "source": [
    "# extração do fit e plotando o gráfico\n",
    "arima_fit_treino = stepwise_model.predict_in_sample()\n",
    "#arima_fit_treino = incrementar_serie(serie_diff=arima_fit_treino, serie_real=treino)\n",
    "arima_fit_treino = pd.Series(arima_fit_treino, index = treino[1:].index)\n",
    "treino.plot(label='Treinamento - Real')\n",
    "arima_fit_treino.plot(label='Treinamento - Fitted arima(0,1,1)')\n",
    "plt.legend()\n",
    "plt.show()"
   ]
  },
  {
   "cell_type": "code",
   "execution_count": 28,
   "metadata": {},
   "outputs": [
    {
     "data": {
      "image/png": "[encoded data removed]",
      "text/plain": [
       "<Figure size 432x288 with 1 Axes>"
      ]
     },
     "metadata": {},
     "output_type": "display_data"
    }
   ],
   "source": [
    "# extração dos resíduos e plotando o gráfico\n",
    "resid_arima = stepwise_model.resid()\n",
    "resid_arima = pd.Series(resid_arima, index = treino[1:].index)\n",
    "resid_arima.plot(label='resíduos arima')\n",
    "plt.legend()\n",
    "plt.show()"
   ]
  },
  {
   "cell_type": "code",
   "execution_count": 29,
   "metadata": {},
   "outputs": [
    {
     "data": {
      "image/png": "[encoded data removed]",
      "text/plain": [
       "<Figure size 432x288 with 1 Axes>"
      ]
     },
     "metadata": {},
     "output_type": "display_data"
    },
    {
     "data": {
      "image/png": "[encoded data removed]",
      "text/plain": [
       "<Figure size 432x288 with 1 Axes>"
      ]
     },
     "metadata": {},
     "output_type": "display_data"
    }
   ],
   "source": [
    "# Análise do autocorrelograma dos resíduos\n",
    "plot_acf(resid_arima, lags=30)\n",
    "plot_pacf(resid_arima, lags=30)\n",
    "plt.show()"
   ]
  },
  {
   "cell_type": "code",
   "execution_count": 30,
   "metadata": {},
   "outputs": [],
   "source": [
    "from pandas import DataFrame\n",
    "from pandas import concat\n",
    " \n",
    "def series_to_supervised(data, n_in=1, n_out=1, dropnan=True):\n",
    "    \"\"\"\n",
    "    Frame a time series as a supervised learning dataset.\n",
    "    Arguments:\n",
    "        data: Sequence of observations as a list or NumPy array.\n",
    "        n_in: Number of lag observations as input (X).\n",
    "        n_out: Number of observations as output (y).\n",
    "        dropnan: Boolean whether or not to drop rows with NaN values.\n",
    "    Returns:\n",
    "        Pandas DataFrame of series framed for supervised learning.\n",
    "    \"\"\"\n",
    "    n_vars = 1 if type(data) is list else data.shape[1]\n",
    "    df = DataFrame(data)\n",
    "    cols, names = list(), list()\n",
    "    # input sequence (t-n, ... t-1)\n",
    "    for i in range(n_in, 0, -1):\n",
    "        cols.append(df.shift(i))\n",
    "        names += [('var%d(t-%d)' % (j+1, i)) for j in range(n_vars)]\n",
    "    # forecast sequence (t, t+1, ... t+n)\n",
    "    for i in range(0, n_out):\n",
    "        cols.append(df.shift(-i))\n",
    "        if i == 0:\n",
    "            names += [('var%d(t)' % (j+1)) for j in range(n_vars)]\n",
    "        else:\n",
    "            names += [('var%d(t+%d)' % (j+1, i)) for j in range(n_vars)]\n",
    "    # put it all together\n",
    "    agg = concat(cols, axis=1)\n",
    "    agg.columns = names\n",
    "    # drop rows with NaN values\n",
    "    if dropnan:\n",
    "        agg.dropna(inplace=True)\n",
    "    return agg"
   ]
  },
  {
   "cell_type": "code",
   "execution_count": 31,
   "metadata": {},
   "outputs": [
    {
     "data": {
      "text/html": [
       "<div>\n",
       "<style scoped>\n",
       "    .dataframe tbody tr th:only-of-type {\n",
       "        vertical-align: middle;\n",
       "    }\n",
       "\n",
       "    .dataframe tbody tr th {\n",
       "        vertical-align: top;\n",
       "    }\n",
       "\n",
       "    .dataframe thead th {\n",
       "        text-align: right;\n",
       "    }\n",
       "</style>\n",
       "<table border=\"1\" class=\"dataframe\">\n",
       "  <thead>\n",
       "    <tr style=\"text-align: right;\">\n",
       "      <th></th>\n",
       "      <th>var1(t-2)</th>\n",
       "      <th>var1(t-1)</th>\n",
       "      <th>var1(t)</th>\n",
       "      <th>var1(t+1)</th>\n",
       "      <th>var1(t+2)</th>\n",
       "      <th>var1(t+3)</th>\n",
       "      <th>var1(t+4)</th>\n",
       "      <th>var1(t+5)</th>\n",
       "      <th>var1(t+6)</th>\n",
       "      <th>var1(t+7)</th>\n",
       "      <th>...</th>\n",
       "      <th>var1(t+10)</th>\n",
       "      <th>var1(t+11)</th>\n",
       "      <th>var1(t+12)</th>\n",
       "      <th>var1(t+13)</th>\n",
       "      <th>var1(t+14)</th>\n",
       "      <th>var1(t+15)</th>\n",
       "      <th>var1(t+16)</th>\n",
       "      <th>var1(t+17)</th>\n",
       "      <th>var1(t+18)</th>\n",
       "      <th>var1(t+19)</th>\n",
       "    </tr>\n",
       "  </thead>\n",
       "  <tbody>\n",
       "    <tr>\n",
       "      <td>2</td>\n",
       "      <td>0.048860</td>\n",
       "      <td>0.024475</td>\n",
       "      <td>0.024427</td>\n",
       "      <td>-0.017435</td>\n",
       "      <td>-0.025820</td>\n",
       "      <td>0.000087</td>\n",
       "      <td>-0.065573</td>\n",
       "      <td>0.010818</td>\n",
       "      <td>0.041745</td>\n",
       "      <td>0.048767</td>\n",
       "      <td>...</td>\n",
       "      <td>0.004526</td>\n",
       "      <td>0.058256</td>\n",
       "      <td>-0.027047</td>\n",
       "      <td>0.334301</td>\n",
       "      <td>-0.149121</td>\n",
       "      <td>0.061228</td>\n",
       "      <td>-0.022856</td>\n",
       "      <td>-0.079707</td>\n",
       "      <td>0.147403</td>\n",
       "      <td>-0.019451</td>\n",
       "    </tr>\n",
       "    <tr>\n",
       "      <td>3</td>\n",
       "      <td>0.024475</td>\n",
       "      <td>0.024427</td>\n",
       "      <td>-0.017435</td>\n",
       "      <td>-0.025820</td>\n",
       "      <td>0.000087</td>\n",
       "      <td>-0.065573</td>\n",
       "      <td>0.010818</td>\n",
       "      <td>0.041745</td>\n",
       "      <td>0.048767</td>\n",
       "      <td>0.021642</td>\n",
       "      <td>...</td>\n",
       "      <td>0.058256</td>\n",
       "      <td>-0.027047</td>\n",
       "      <td>0.334301</td>\n",
       "      <td>-0.149121</td>\n",
       "      <td>0.061228</td>\n",
       "      <td>-0.022856</td>\n",
       "      <td>-0.079707</td>\n",
       "      <td>0.147403</td>\n",
       "      <td>-0.019451</td>\n",
       "      <td>-0.028004</td>\n",
       "    </tr>\n",
       "    <tr>\n",
       "      <td>4</td>\n",
       "      <td>0.024427</td>\n",
       "      <td>-0.017435</td>\n",
       "      <td>-0.025820</td>\n",
       "      <td>0.000087</td>\n",
       "      <td>-0.065573</td>\n",
       "      <td>0.010818</td>\n",
       "      <td>0.041745</td>\n",
       "      <td>0.048767</td>\n",
       "      <td>0.021642</td>\n",
       "      <td>0.070539</td>\n",
       "      <td>...</td>\n",
       "      <td>-0.027047</td>\n",
       "      <td>0.334301</td>\n",
       "      <td>-0.149121</td>\n",
       "      <td>0.061228</td>\n",
       "      <td>-0.022856</td>\n",
       "      <td>-0.079707</td>\n",
       "      <td>0.147403</td>\n",
       "      <td>-0.019451</td>\n",
       "      <td>-0.028004</td>\n",
       "      <td>0.059717</td>\n",
       "    </tr>\n",
       "    <tr>\n",
       "      <td>5</td>\n",
       "      <td>-0.017435</td>\n",
       "      <td>-0.025820</td>\n",
       "      <td>0.000087</td>\n",
       "      <td>-0.065573</td>\n",
       "      <td>0.010818</td>\n",
       "      <td>0.041745</td>\n",
       "      <td>0.048767</td>\n",
       "      <td>0.021642</td>\n",
       "      <td>0.070539</td>\n",
       "      <td>0.004526</td>\n",
       "      <td>...</td>\n",
       "      <td>0.334301</td>\n",
       "      <td>-0.149121</td>\n",
       "      <td>0.061228</td>\n",
       "      <td>-0.022856</td>\n",
       "      <td>-0.079707</td>\n",
       "      <td>0.147403</td>\n",
       "      <td>-0.019451</td>\n",
       "      <td>-0.028004</td>\n",
       "      <td>0.059717</td>\n",
       "      <td>-0.026837</td>\n",
       "    </tr>\n",
       "    <tr>\n",
       "      <td>6</td>\n",
       "      <td>-0.025820</td>\n",
       "      <td>0.000087</td>\n",
       "      <td>-0.065573</td>\n",
       "      <td>0.010818</td>\n",
       "      <td>0.041745</td>\n",
       "      <td>0.048767</td>\n",
       "      <td>0.021642</td>\n",
       "      <td>0.070539</td>\n",
       "      <td>0.004526</td>\n",
       "      <td>0.058256</td>\n",
       "      <td>...</td>\n",
       "      <td>-0.149121</td>\n",
       "      <td>0.061228</td>\n",
       "      <td>-0.022856</td>\n",
       "      <td>-0.079707</td>\n",
       "      <td>0.147403</td>\n",
       "      <td>-0.019451</td>\n",
       "      <td>-0.028004</td>\n",
       "      <td>0.059717</td>\n",
       "      <td>-0.026837</td>\n",
       "      <td>0.064965</td>\n",
       "    </tr>\n",
       "  </tbody>\n",
       "</table>\n",
       "<p>5 rows × 22 columns</p>\n",
       "</div>"
      ],
      "text/plain": [
       "   var1(t-2)  var1(t-1)   var1(t)  var1(t+1)  var1(t+2)  var1(t+3)  var1(t+4)  \\\n",
       "2   0.048860   0.024475  0.024427  -0.017435  -0.025820   0.000087  -0.065573   \n",
       "3   0.024475   0.024427 -0.017435  -0.025820   0.000087  -0.065573   0.010818   \n",
       "4   0.024427  -0.017435 -0.025820   0.000087  -0.065573   0.010818   0.041745   \n",
       "5  -0.017435  -0.025820  0.000087  -0.065573   0.010818   0.041745   0.048767   \n",
       "6  -0.025820   0.000087 -0.065573   0.010818   0.041745   0.048767   0.021642   \n",
       "\n",
       "   var1(t+5)  var1(t+6)  var1(t+7)  ...  var1(t+10)  var1(t+11)  var1(t+12)  \\\n",
       "2   0.010818   0.041745   0.048767  ...    0.004526    0.058256   -0.027047   \n",
       "3   0.041745   0.048767   0.021642  ...    0.058256   -0.027047    0.334301   \n",
       "4   0.048767   0.021642   0.070539  ...   -0.027047    0.334301   -0.149121   \n",
       "5   0.021642   0.070539   0.004526  ...    0.334301   -0.149121    0.061228   \n",
       "6   0.070539   0.004526   0.058256  ...   -0.149121    0.061228   -0.022856   \n",
       "\n",
       "   var1(t+13)  var1(t+14)  var1(t+15)  var1(t+16)  var1(t+17)  var1(t+18)  \\\n",
       "2    0.334301   -0.149121    0.061228   -0.022856   -0.079707    0.147403   \n",
       "3   -0.149121    0.061228   -0.022856   -0.079707    0.147403   -0.019451   \n",
       "4    0.061228   -0.022856   -0.079707    0.147403   -0.019451   -0.028004   \n",
       "5   -0.022856   -0.079707    0.147403   -0.019451   -0.028004    0.059717   \n",
       "6   -0.079707    0.147403   -0.019451   -0.028004    0.059717   -0.026837   \n",
       "\n",
       "   var1(t+19)  \n",
       "2   -0.019451  \n",
       "3   -0.028004  \n",
       "4    0.059717  \n",
       "5   -0.026837  \n",
       "6    0.064965  \n",
       "\n",
       "[5 rows x 22 columns]"
      ]
     },
     "execution_count": 31,
     "metadata": {},
     "output_type": "execute_result"
    }
   ],
   "source": [
    "# Criar as janelas com 20 saídas para y e 2 lags\n",
    "values = list(resid_arima)\n",
    "data = series_to_supervised(values, 2, 20)\n",
    "data.head()"
   ]
  },
  {
   "cell_type": "markdown",
   "metadata": {},
   "source": [
    "### MLP"
   ]
  },
  {
   "cell_type": "code",
   "execution_count": 32,
   "metadata": {},
   "outputs": [],
   "source": [
    "def treinar_mlp(x_train, y_train, x_val, y_val, num_exec):\n",
    "    \n",
    "    \n",
    "    neuronios =  [1, 2, 3, 5, 10]    #[1, 5, 10, 20, 30, 40, 50, 60, 70, 80, 90, 100, 120, 150, 170, 200]\n",
    "    func_activation =  ['tanh', 'relu']   #['identity', 'tanh', 'relu']\n",
    "    alg_treinamento = ['lbfgs', 'sgd', 'adam']#, ['lbfgs','sgd', 'adam']\n",
    "    max_iteracoes = [10000] #[100, 1000, 10000]\n",
    "    learning_rate = ['adaptive']  #['constant', 'invscaling', 'adaptive']\n",
    "    qtd_lags_sel = len(x_train[0])\n",
    "    best_result = np.Inf\n",
    "    for i in range(0,len(neuronios)):\n",
    "        for j in range(0,len(func_activation)):\n",
    "            for l in range(0,len(alg_treinamento)):\n",
    "                for m in range(0,len(max_iteracoes)):\n",
    "                    for n in range(0,len(learning_rate)):\n",
    "                        for qtd_lag in range(1, len(x_train[0]+1)): #variar a qtd de pontos utilizados na janela \n",
    "                            \n",
    "                            print('QTD de Lags:', qtd_lag, 'Qtd de Neuronios' ,neuronios[i], 'Func. Act', func_activation[j])\n",
    "\n",
    "\n",
    "                            for e in range(0,num_exec):\n",
    "                                mlp = MLPRegressor(hidden_layer_sizes=neuronios[i], activation=func_activation[j], solver=alg_treinamento[l], max_iter = max_iteracoes[m], learning_rate= learning_rate[n])\n",
    "                                \n",
    "                                \n",
    "                                mlp.fit(x_train[:,-qtd_lag:], y_train)\n",
    "                                predict_validation = mlp.predict(x_val[:,-qtd_lag:])\n",
    "                                rmse = np.sqrt(MSE(y_val, predict_validation))\n",
    "\n",
    "                                if rmse < best_result:\n",
    "                                    best_result = rmse\n",
    "                                    print('Melhor RMSE:', best_result)\n",
    "                                    select_model = mlp\n",
    "                                    qtd_lags_sel = qtd_lag\n",
    "    \n",
    "    \n",
    "    return select_model, qtd_lags_sel"
   ]
  },
  {
   "cell_type": "code",
   "execution_count": 33,
   "metadata": {},
   "outputs": [],
   "source": [
    "# Transformando em array\n",
    "X, y = np.array(data.iloc[:,:2]), np.array(data.iloc[:,2:])"
   ]
  },
  {
   "cell_type": "code",
   "execution_count": 34,
   "metadata": {},
   "outputs": [],
   "source": [
    "# Criando os conjuntos de treinamento, validação e teste\n",
    "def divisao_dados_temporais(X,y, perc_treino, perc_val = 0):\n",
    "    tam_treino = int(perc_treino * len(y))\n",
    "    \n",
    "    if perc_val > 0:        \n",
    "        tam_val = int(len(y)*perc_val)\n",
    "              \n",
    "        X_treino = X[0:tam_treino,:]\n",
    "        y_treino = y[0:tam_treino,:]\n",
    "        \n",
    "        print(\"Particao de Treinamento:\", 0, tam_treino)\n",
    "        \n",
    "        X_val = X[tam_treino:tam_treino+tam_val,:]\n",
    "        y_val = y[tam_treino:tam_treino+tam_val,:]\n",
    "        \n",
    "        print(\"Particao de Validacao:\",tam_treino,tam_treino+tam_val)\n",
    "        \n",
    "        X_teste = X[(tam_treino+tam_val):-1,:]\n",
    "        y_teste = y[(tam_treino+tam_val):-1,:]\n",
    "        \n",
    "        print(\"Particao de Teste:\", tam_treino+tam_val, len(y))\n",
    "        \n",
    "        return X_treino, y_treino, X_teste, y_teste, X_val, y_val\n",
    "        \n",
    "    else:\n",
    "        \n",
    "        X_treino = X[0:tam_treino,:]\n",
    "        y_treino = y[0:tam_treino,:]\n",
    "\n",
    "        X_teste = X[tam_treino:-1,:]\n",
    "        y_teste = y[tam_treino:-1,:]\n",
    "\n",
    "        return X_treino, y_treino, X_teste, y_teste "
   ]
  },
  {
   "cell_type": "code",
   "execution_count": 35,
   "metadata": {},
   "outputs": [
    {
     "name": "stdout",
     "output_type": "stream",
     "text": [
      "Particao de Treinamento: 0 91\n",
      "Particao de Validacao: 91 133\n",
      "Particao de Teste: 133 153\n"
     ]
    }
   ],
   "source": [
    "X_treino, y_treino, X_val, y_val, X_teste, y_teste = divisao_dados_temporais(X, y, perc_treino = 0.6, perc_val = 0.28)"
   ]
  },
  {
   "cell_type": "code",
   "execution_count": 51,
   "metadata": {},
   "outputs": [
    {
     "name": "stdout",
     "output_type": "stream",
     "text": [
      "QTD de Lags: 1 Qtd de Neuronios 1 Func. Act tanh\n",
      "Melhor RMSE: 0.05304905049565013\n",
      "Melhor RMSE: 0.052544199833547744\n",
      "QTD de Lags: 1 Qtd de Neuronios 1 Func. Act tanh\n",
      "QTD de Lags: 1 Qtd de Neuronios 1 Func. Act tanh\n",
      "QTD de Lags: 1 Qtd de Neuronios 1 Func. Act relu\n",
      "Melhor RMSE: 0.05018122203080693\n",
      "Melhor RMSE: 0.05018121274073458\n",
      "Melhor RMSE: 0.050181212740650454\n",
      "QTD de Lags: 1 Qtd de Neuronios 1 Func. Act relu\n",
      "QTD de Lags: 1 Qtd de Neuronios 1 Func. Act relu\n",
      "QTD de Lags: 1 Qtd de Neuronios 2 Func. Act tanh\n",
      "QTD de Lags: 1 Qtd de Neuronios 2 Func. Act tanh\n",
      "QTD de Lags: 1 Qtd de Neuronios 2 Func. Act tanh\n",
      "QTD de Lags: 1 Qtd de Neuronios 2 Func. Act relu\n",
      "QTD de Lags: 1 Qtd de Neuronios 2 Func. Act relu\n",
      "QTD de Lags: 1 Qtd de Neuronios 2 Func. Act relu\n",
      "QTD de Lags: 1 Qtd de Neuronios 3 Func. Act tanh\n",
      "QTD de Lags: 1 Qtd de Neuronios 3 Func. Act tanh\n",
      "QTD de Lags: 1 Qtd de Neuronios 3 Func. Act tanh\n",
      "QTD de Lags: 1 Qtd de Neuronios 3 Func. Act relu\n",
      "Melhor RMSE: 0.05018096467083948\n",
      "QTD de Lags: 1 Qtd de Neuronios 3 Func. Act relu\n",
      "QTD de Lags: 1 Qtd de Neuronios 3 Func. Act relu\n",
      "QTD de Lags: 1 Qtd de Neuronios 5 Func. Act tanh\n",
      "QTD de Lags: 1 Qtd de Neuronios 5 Func. Act tanh\n",
      "QTD de Lags: 1 Qtd de Neuronios 5 Func. Act tanh\n",
      "QTD de Lags: 1 Qtd de Neuronios 5 Func. Act relu\n",
      "QTD de Lags: 1 Qtd de Neuronios 5 Func. Act relu\n",
      "QTD de Lags: 1 Qtd de Neuronios 5 Func. Act relu\n",
      "QTD de Lags: 1 Qtd de Neuronios 10 Func. Act tanh\n",
      "QTD de Lags: 1 Qtd de Neuronios 10 Func. Act tanh\n",
      "QTD de Lags: 1 Qtd de Neuronios 10 Func. Act tanh\n",
      "QTD de Lags: 1 Qtd de Neuronios 10 Func. Act relu\n",
      "QTD de Lags: 1 Qtd de Neuronios 10 Func. Act relu\n",
      "QTD de Lags: 1 Qtd de Neuronios 10 Func. Act relu\n"
     ]
    }
   ],
   "source": [
    "# treinar MLP\n",
    "mlp_model, lag_sel = treinar_mlp(X_treino, y_treino, X_val, y_val, num_exec = 5)"
   ]
  },
  {
   "cell_type": "code",
   "execution_count": 52,
   "metadata": {},
   "outputs": [
    {
     "data": {
      "text/plain": [
       "MLPRegressor(activation='relu', alpha=0.0001, batch_size='auto', beta_1=0.9,\n",
       "       beta_2=0.999, early_stopping=False, epsilon=1e-08,\n",
       "       hidden_layer_sizes=3, learning_rate='adaptive',\n",
       "       learning_rate_init=0.001, max_iter=10000, momentum=0.9,\n",
       "       nesterovs_momentum=True, power_t=0.5, random_state=None,\n",
       "       shuffle=True, solver='lbfgs', tol=0.0001, validation_fraction=0.1,\n",
       "       verbose=False, warm_start=False)"
      ]
     },
     "execution_count": 52,
     "metadata": {},
     "output_type": "execute_result"
    }
   ],
   "source": [
    "mlp_model"
   ]
  },
  {
   "cell_type": "code",
   "execution_count": 53,
   "metadata": {},
   "outputs": [
    {
     "data": {
      "text/plain": [
       "1"
      ]
     },
     "execution_count": 53,
     "metadata": {},
     "output_type": "execute_result"
    }
   ],
   "source": [
    "lag_sel"
   ]
  },
  {
   "cell_type": "markdown",
   "metadata": {},
   "source": [
    "### Aplicação do Sistema Híbrido - ARIMA + MLP"
   ]
  },
  {
   "cell_type": "code",
   "execution_count": 175,
   "metadata": {},
   "outputs": [],
   "source": [
    "# Realizando as previsões\n",
    "previsao_mlp = mlp_model.predict(resid_arima.values[-1]).reshape(20,)\n",
    "\n",
    "# Transformando em Série temporal \n",
    "previsao_mlp = pd.Series(previsao_mlp, index = teste.index)\n",
    "\n",
    "# Prevendo com o Arima\n",
    "arima_teste = stepwise_model.predict(n_periods=20)\n",
    "arima_teste = pd.Series(arima_teste, index = teste.index)"
   ]
  },
  {
   "cell_type": "code",
   "execution_count": 176,
   "metadata": {},
   "outputs": [],
   "source": [
    "# Criando o sistema híbrido z = arima + mlp\n",
    "z = arima_teste+previsao_mlp"
   ]
  },
  {
   "cell_type": "code",
   "execution_count": 177,
   "metadata": {},
   "outputs": [
    {
     "data": {
      "image/png": "[encoded data removed]",
      "text/plain": [
       "<Figure size 432x288 with 1 Axes>"
      ]
     },
     "metadata": {},
     "output_type": "display_data"
    }
   ],
   "source": [
    "# plotando\n",
    "plt.plot(teste, label = 'Série', color = 'blue')\n",
    "plt.plot(arima_teste,label = 'ARIMA', color = 'coral')\n",
    "plt.plot(z,label = 'Z = ARIMA + MLP', color = 'green')\n",
    "\n",
    "plt.legend()\n",
    "plt.show()"
   ]
  },
  {
   "cell_type": "code",
   "execution_count": 178,
   "metadata": {},
   "outputs": [
    {
     "name": "stdout",
     "output_type": "stream",
     "text": [
      "RMSE - ARIMA =  0.136612432187195\n",
      "RMSE - Z     =  0.14597662518655155\n"
     ]
    }
   ],
   "source": [
    "print('RMSE - ARIMA = ',np.sqrt(MSE(teste, arima_teste)))\n",
    "print('RMSE - Z     = ', np.sqrt(MSE(teste, z)))"
   ]
  },
  {
   "cell_type": "markdown",
   "metadata": {},
   "source": [
    "### Conclusão"
   ]
  },
  {
   "cell_type": "markdown",
   "metadata": {},
   "source": [
    "O modelo ARIMA apresentou um RMSE, para os dados de teste, no valor aproximado de 0.1366. Contudo, quando implementado o sistema híbrido a partir da soma do modelo ARIMA com o modelo MLP, o RMSE aumentou para o valor aproximado de 0.1460. \n",
    "\n",
    "Sendo assim, o Sistem Híbrido não apresentou melhores previsões do que o ARIMA. Duas possíveis justificativas podem explicar esse fato:\n",
    "\n",
    "* O erro de treinamento do ARIMA, que serviu para treinar o modelo MLP, seria uma série não autocorrelacionada.\n",
    "* O Tamanho da janela de previsão ser de longo prazo.\n",
    "\n",
    "Vale a pena investigar se outro modelo de machine learning, por exemplo um SVR, conseguiria mapear de forma mais adequada o erro gerado pelo modelo arima. Ademais, seria interessante implementar outra combinação de sistema híbrido, por meio de técnicas como processos gaussianos etc."
   ]
  }
 ],
 "metadata": {
  "kernelspec": {
   "display_name": "Python 3",
   "language": "python",
   "name": "python3"
  },
  "language_info": {
   "codemirror_mode": {
    "name": "ipython",
    "version": 3
   },
   "file_extension": ".py",
   "mimetype": "text/x-python",
   "name": "python",
   "nbconvert_exporter": "python",
   "pygments_lexer": "ipython3",
   "version": "3.6.5"
  }
 },
 "nbformat": 4,
 "nbformat_minor": 2
}
